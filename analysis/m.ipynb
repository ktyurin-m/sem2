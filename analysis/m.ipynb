{
 "cells": [
  {
   "cell_type": "code",
   "execution_count": 25,
   "metadata": {},
   "outputs": [],
   "source": [
    "import uproot\n",
    "import pandas"
   ]
  },
  {
   "cell_type": "code",
   "execution_count": 26,
   "metadata": {},
   "outputs": [],
   "source": [
    "file = uproot.open(\"B2out.root\")"
   ]
  },
  {
   "cell_type": "code",
   "execution_count": 27,
   "metadata": {},
   "outputs": [],
   "source": [
    "tree = file[\"Data\"]"
   ]
  },
  {
   "cell_type": "code",
   "execution_count": 28,
   "metadata": {},
   "outputs": [
    {
     "data": {
      "text/plain": [
       "['x', 'y', 'z', 'Edep']"
      ]
     },
     "execution_count": 28,
     "metadata": {},
     "output_type": "execute_result"
    }
   ],
   "source": [
    "tree.keys()"
   ]
  },
  {
   "cell_type": "code",
   "execution_count": 29,
   "metadata": {},
   "outputs": [
    {
     "data": {
      "text/html": [
       "<pre>[-10,\n",
       " -9.8,\n",
       " -9.57,\n",
       " -9.15,\n",
       " -9.01,\n",
       " -8.16,\n",
       " -8.06,\n",
       " -7.45,\n",
       " -6.63,\n",
       " -6.55,\n",
       " ...,\n",
       " -9.52,\n",
       " -9.48,\n",
       " -9.18,\n",
       " -9.09,\n",
       " -9,\n",
       " -8.72,\n",
       " -9.06,\n",
       " -9.39,\n",
       " -9.1]\n",
       "----------------------\n",
       "type: 644190 * float64</pre>"
      ],
      "text/plain": [
       "<Array [-10, -9.8, -9.57, ..., -9.06, -9.39, -9.1] type='644190 * float64'>"
      ]
     },
     "execution_count": 29,
     "metadata": {},
     "output_type": "execute_result"
    }
   ],
   "source": [
    "tree[\"x\"].array()"
   ]
  },
  {
   "cell_type": "code",
   "execution_count": 30,
   "metadata": {},
   "outputs": [
    {
     "ename": "AttributeError",
     "evalue": "'Model_TTree_v5' object has no attribute 'pandas'",
     "output_type": "error",
     "traceback": [
      "\u001b[0;31m---------------------------------------------------------------------------\u001b[0m",
      "\u001b[0;31mAttributeError\u001b[0m                            Traceback (most recent call last)",
      "\u001b[1;32m/home/kirill/nir/geant4/sem2/analysis/m.ipynb Cell 6\u001b[0m in \u001b[0;36m1\n\u001b[0;32m----> <a href='vscode-notebook-cell:/home/kirill/nir/geant4/sem2/analysis/m.ipynb#W5sZmlsZQ%3D%3D?line=0'>1</a>\u001b[0m tree\u001b[39m.\u001b[39;49mpandas\u001b[39m.\u001b[39mdf([\u001b[39m\"\u001b[39m\u001b[39mx*\u001b[39m\u001b[39m\"\u001b[39m])\n",
      "\u001b[0;31mAttributeError\u001b[0m: 'Model_TTree_v5' object has no attribute 'pandas'"
     ]
    }
   ],
   "source": [
    "tree.pandas.df([\"x*\"])"
   ]
  },
  {
   "cell_type": "code",
   "execution_count": null,
   "metadata": {},
   "outputs": [],
   "source": []
  }
 ],
 "metadata": {
  "kernelspec": {
   "display_name": "Python 3",
   "language": "python",
   "name": "python3"
  },
  "language_info": {
   "codemirror_mode": {
    "name": "ipython",
    "version": 3
   },
   "file_extension": ".py",
   "mimetype": "text/x-python",
   "name": "python",
   "nbconvert_exporter": "python",
   "pygments_lexer": "ipython3",
   "version": "3.8.10"
  },
  "orig_nbformat": 4
 },
 "nbformat": 4,
 "nbformat_minor": 2
}
